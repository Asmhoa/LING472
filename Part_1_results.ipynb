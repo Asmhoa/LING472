{
  "nbformat": 4,
  "nbformat_minor": 0,
  "metadata": {
    "colab": {
      "name": "Untitled0.ipynb",
      "provenance": [],
      "authorship_tag": "ABX9TyNU04zuHlqN4mRJdIPDyghh",
      "include_colab_link": true
    },
    "kernelspec": {
      "name": "python3",
      "display_name": "Python 3"
    }
  },
  "cells": [
    {
      "cell_type": "markdown",
      "metadata": {
        "id": "view-in-github",
        "colab_type": "text"
      },
      "source": [
        "<a href=\"https://colab.research.google.com/github/Asmhoa/LING472/blob/master/Part_1_results.ipynb\" target=\"_parent\"><img src=\"https://colab.research.google.com/assets/colab-badge.svg\" alt=\"Open In Colab\"/></a>"
      ]
    },
    {
      "cell_type": "markdown",
      "metadata": {
        "id": "Onful6W0x20e",
        "colab_type": "text"
      },
      "source": [
        "# Answers to Part 1\n",
        "\n",
        "In all of the following, the email corpus results are on the left, the dialog corpus results on the right. The results are sorted by relative frequency, which is rounded to 5 decimal places."
      ]
    },
    {
      "cell_type": "markdown",
      "metadata": {
        "id": "5JKMBffu1uAK",
        "colab_type": "text"
      },
      "source": [
        "***subjh*** "
      ]
    },
    {
      "cell_type": "code",
      "metadata": {
        "id": "mEgwNqy2x_q5",
        "colab_type": "code",
        "colab": {}
      },
      "source": [
        "subjh => \t i hcomp                                 : 0.45735 \t\t i hcomp                                 : 0.3285 \n",
        "subjh => \t i hadj_i_uns                            : 0.10878 \t\t i hadj_i_uns                            : 0.1658 \n",
        "subjh => \t hspec hcomp                             : 0.10383 \t\t noptcomp hcomp                          : 0.10881\n",
        "subjh => \t noptcomp hcomp                          : 0.08405 \t\t that_deix hcomp                         : 0.06373\n",
        "subjh => \t i extracomp                             : 0.04821 \t\t hspec hcomp                             : 0.04611\n",
        "subjh => \t i v_coord_fin_top                       : 0.02349 \t\t noptcomp hadj_i_uns                     : 0.02746\n",
        "subjh => \t i adjh_i                                : 0.02101 \t\t i extradj_t                             : 0.02124\n",
        "subjh => \t i adjh_s                                : 0.02101 \t\t proper_np hcomp                         : 0.01762\n",
        "subjh => \t i extradj_i_vp                          : 0.01978 \t\t i extradj_i_vp                          : 0.0171 \n",
        "subjh => \t it hcomp                                : 0.00865 \t\t that_deix hoptcomp                      : 0.01451\n",
        "subjh => \t hspec hadj_i_uns                        : 0.00865 \t\t i adjh_s                                : 0.01244\n",
        "subjh => \t this_deix hcomp                         : 0.00742 \t\t hspec hadj_i_uns                        : 0.01192\n",
        "subjh => \t noptcomp hadj_i_uns                     : 0.00618 \t\t that_deix hadj_i_uns                    : 0.01088\n",
        "subjh => \t bare_np hcomp                           : 0.00618 \t\t proper_np hadj_i_uns                    : 0.01036\n",
        "subjh => \t num_np third_sg_fin_verb_infl_rule      : 0.00494 \t\t i extracomp                             : 0.00829\n",
        "subjh => \t noptcomp extracomp                      : 0.00371 \t\t i vpellipsis_ref_lr                     : 0.00777\n",
        "subjh => \t num_np hcomp                            : 0.00371 \t\t it hcomp                                : 0.00777\n",
        "subjh => \t she hcomp                               : 0.00371 \t\t i hadj_s                                : 0.00725\n",
        "subjh => \t i hadj_s                                : 0.00371 \t\t noptcomp extracomp                      : 0.00674\n",
        "subjh => \t here_nom hcomp                          : 0.00371 \t\t hspechc hcomp                           : 0.00518\n",
        "subjh => \t that_deix hcomp                         : 0.00371 \t\t today_np hcomp                          : 0.00518\n",
        "subjh => \t noptcomp hadj_s                         : 0.00371 \t\t nadj_rr_t hcomp                         : 0.00466\n",
        "subjh => \t bare_np third_sg_fin_verb_infl_rule     : 0.00247 \t\t noptcomp adjh_s                         : 0.00415\n",
        "subjh => \t there_expl hoptcomp                     : 0.00247 \t\t noptcomp hoptcomp                       : 0.00415\n",
        "subjh => \t i extradj_t                             : 0.00247 \t\t i hoptcomp                              : 0.00415\n",
        "subjh => \t hspec third_sg_fin_verb_infl_rule       : 0.00247 \t\t hspechc hoptcomp                        : 0.00363\n",
        "subjh => \t np_s hoptcomp                           : 0.00247 \t\t np_coord_top hcomp                      : 0.00363\n",
        "subjh => \t this_deix hadj_i_uns                    : 0.00124 \t\t proper_np hoptcomp                      : 0.00363\n",
        "subjh => \t hspechc hcomp                           : 0.00124 \t\t noptcomp extradj_i_vp                   : 0.00311\n",
        "subjh => \t hspec adjh_s                            : 0.00124 \t\t hspec extradj_i_vp                      : 0.00311\n",
        "subjh => \t proper_np hcomp                         : 0.00124 \t\t nadj_rr_t hadj_i_uns                    : 0.00311\n",
        "subjh => \t noptcomp extradj_i_vp                   : 0.00124 \t\t noptcomp extradj_t                      : 0.00311\n",
        "subjh => \t bare_np non_third_sg_fin_verb_infl_rule : 0.00124 \t\t bare_np hadj_i_uns                      : 0.00311\n",
        "subjh => \t hspec v_coord_fin_top                   : 0.00124 \t\t i adjh_i                                : 0.00259\n",
        "subjh => \t noptcomp vpellipsis_ref_lr              : 0.00124 \t\t that_deix extradj_t                     : 0.00259\n",
        "subjh => \t bare_vger hcomp                         : 0.00124 \t\t noptcomp vpellipsis_ref_lr              : 0.00259\n",
        "subjh => \t hspec adjh_i                            : 0.00124 \t\t hspec hoptcomp                          : 0.00259\n",
        "subjh => \t i hadj_i_s                              : 0.00124 \t\t that_deix hadj_s                        : 0.00207\n",
        "subjh => \t that_deix hadj_i_uns                    : 0.00124 \t\t np_coord_top hadj_i_uns                 : 0.00207\n",
        "subjh => \t np_coord_top hcomp                      : 0.00124 \t\t this_deix hcomp                         : 0.00207\n",
        "subjh => \t this_deix extradj_i_vp                  : 0.00124 \t\t noptcomp v_coord_fin_top                : 0.00155\n",
        "subjh => \t noptcomp adjh_s                         : 0.00124 \t\t those_deix hadj_i_uns                   : 0.00155\n",
        "subjh => \t noptcomp hadj_i_s                       : 0.00124 \t\t bare_np hcomp                           : 0.00155\n",
        "subjh => \t num_np extracomp                        : 0.00124 \t\t that_deix extradj_i_vp                  : 0.00155\n",
        "subjh => \t hspec hoptcomp                          : 0.00124 \t\t nadj_rc hcomp                           : 0.00155\n",
        "subjh => \t noptcomp adjh_i                         : 0.00124 \t\t noptcomp hadj_s                         : 0.00155\n",
        "subjh => \t num_np hadj_i_uns                       : 0.00124 \t\t nadj_rr_t hoptcomp                      : 0.00104\n",
        "subjh => \t she hadj_i_uns                          : 0.00124 \t\t hspec hadj_s                            : 0.00104\n",
        "subjh => \t hspec past_verb_infl_rule               : 0.00124 \t\t there_expl hoptcomp                     : 0.00104\n",
        "subjh => \t appos adjh_i                            : 0.00124 \t\t hcomp hadj_i_uns                        : 0.00104\n",
        "subjh => \t bare_vger extradj_i_vp                  : 0.00124 \t\t nadj_rr_nt hcomp                        : 0.00104\n",
        "subjh => \t np_s extracomp                          : 0.00124 \t\t hspec extracomp                         : 0.00104\n",
        "subjh => \t appos extradj_i_vp                      : 0.00124 \t\t proper_np hadj_s                        : 0.00104\n",
        "subjh => \t                                         :         \t\t that_deix extracomp                     : 0.00104\n",
        "subjh => \t                                         :         \t\t np_s hadj_i_uns                         : 0.00104\n",
        "subjh => \t                                         :         \t\t hspechc hadj_i_uns                      : 0.00104\n",
        "subjh => \t                                         :         \t\t hspec vpellipsis_ref_lr                 : 0.00104\n",
        "subjh => \t                                         :         \t\t hcomp hcomp                             : 0.00104\n",
        "subjh => \t                                         :         \t\t hspec extradj_t                         : 0.00104\n",
        "subjh => \t                                         :         \t\t this_deix hadj_i_uns                    : 0.00052\n",
        "subjh => \t                                         :         \t\t hspec adjh_s                            : 0.00052\n",
        "subjh => \t                                         :         \t\t num_seq hadj_i_uns                      : 0.00052\n",
        "subjh => \t                                         :         \t\t partnum_nc hadj_i_uns                   : 0.00052\n",
        "subjh => \t                                         :         \t\t yours hcomp                             : 0.00052\n",
        "subjh => \t                                         :         \t\t mine hadj_s                             : 0.00052\n",
        "subjh => \t                                         :         \t\t measure_np hcomp                        : 0.00052\n",
        "subjh => \t                                         :         \t\t that_deix adjh_s                        : 0.00052\n",
        "subjh => \t                                         :         \t\t bare_vger hcomp                         : 0.00052\n",
        "subjh => \t                                         :         \t\t hspechc extradj_t                       : 0.00052\n",
        "subjh => \t                                         :         \t\t i hadj_i_s                              : 0.00052\n",
        "subjh => \t                                         :         \t\t noptcomp hadj_i_s                       : 0.00052\n",
        "subjh => \t                                         :         \t\t np_coord_top hadj_s                     : 0.00052\n",
        "subjh => \t                                         :         \t\t bare_np hadj_s                          : 0.00052\n",
        "subjh => \t                                         :         \t\t bare_np extradj_i_vp                    : 0.00052\n",
        "subjh => \t                                         :         \t\t nadj_rc hadj_i_uns                      : 0.00052\n",
        "subjh => \t                                         :         \t\t noptcomp adjh_i                         : 0.00052\n",
        "subjh => \t                                         :         \t\t today_np hadj_i_uns                     : 0.00052\n",
        "subjh => \t                                         :         \t\t they_sg hcomp                           : 0.00052\n",
        "subjh => \t                                         :         \t\t hspec noptcomp                          : 0.00052\n",
        "subjh => \t                                         :         \t\t bare_np adjh_s                          : 0.00052\n",
        "subjh => \t                                         :         \t\t part_nocomp hcomp                       : 0.00052\n",
        "subjh => \t                                         :         \t\t num_np extradj_t                        : 0.00052\n",
        "subjh => \t                                         :         \t\t those_deix hcomp                        : 0.00052"
      ],
      "execution_count": 0,
      "outputs": []
    },
    {
      "cell_type": "markdown",
      "metadata": {
        "id": "2VVb-J9WSYCR",
        "colab_type": "text"
      },
      "source": [
        "***extracomp***"
      ]
    },
    {
      "cell_type": "code",
      "metadata": {
        "id": "sSZgSWYlSZxt",
        "colab_type": "code",
        "colab": {}
      },
      "source": [
        "extracomp => \t past_verb_infl_rule                     : 0.52941 \t\t bse_verb_infl_rule                      : 0.42534\n",
        "extracomp => \t bse_verb_infl_rule                      : 0.18954 \t\t hcomp                                   : 0.21267\n",
        "extracomp => \t hcomp                                   : 0.08497 \t\t non_third_sg_fin_verb_infl_rule         : 0.13122\n",
        "extracomp => \t psp_verb_infl_rule                      : 0.02614 \t\t past_verb_infl_rule                     : 0.02715\n",
        "extracomp => \t non_third_sg_fin_verb_infl_rule         : 0.02614 \t\t be_id_be                                : 0.02715\n",
        "extracomp => \t to                                      : 0.02614 \t\t got_poss                                : 0.0181 \n",
        "extracomp => \t for                                     : 0.01307 \t\t be_c_am                                 : 0.0181 \n",
        "extracomp => \t through_prtcl                           : 0.01307 \t\t like_p                                  : 0.01357\n",
        "extracomp => \t hoptcomp                                : 0.01307 \t\t be_id_is                                : 0.01357\n",
        "extracomp => \t be_c_be                                 : 0.00654 \t\t prp_verb_infl_rule                      : 0.01357\n",
        "extracomp => \t be_c_is                                 : 0.00654 \t\t be_c_be                                 : 0.01357\n",
        "extracomp => \t third_sg_fin_verb_infl_rule             : 0.00654 \t\t to                                      : 0.00905\n",
        "extracomp => \t be_id_was                               : 0.00654 \t\t be_th_cop_be                            : 0.00452\n",
        "extracomp => \t be_id_am_cx_                            : 0.00654 \t\t psp_verb_infl_rule                      : 0.00452\n",
        "extracomp => \t be_th_cop_be                            : 0.00654 \t\t be_id_are                               : 0.00452\n",
        "extracomp => \t be_it_cop_been                          : 0.00654 \t\t be_c_is                                 : 0.00452\n",
        "extracomp => \t by_p                                    : 0.00654 \t\t on_day                                  : 0.00452\n",
        "extracomp => \t through                                 : 0.00654 \t\t after_p                                 : 0.00452\n",
        "extracomp => \t be_id_am                                : 0.00654 \t\t out_vmod                                : 0.00452\n",
        "extracomp => \t be_id_be                                : 0.00654 \t\t with_p                                  : 0.00452\n",
        "extracomp => \t into_vmod                               : 0.00654 \t\t third_sg_fin_verb_infl_rule             : 0.00452\n",
        "extracomp => \t                                         :         \t\t be_id_was                               : 0.00452\n",
        "extracomp => \t                                         :         \t\t for_prtcl                               : 0.00452\n",
        "extracomp => \t                                         :         \t\t about_prtcl                             : 0.00452\n",
        "extracomp => \t                                         :         \t\t on                                      : 0.00452\n",
        "extracomp => \t                                         :         \t\t about                                   : 0.00452\n",
        "extracomp => \t                                         :         \t\t got_poss_prd                            : 0.00452\n",
        "extracomp => \t                                         :         \t\t be_id_am                                : 0.00452\n",
        "extracomp => \t                                         :         \t\t in_prtcl                                : 0.00452"
      ],
      "execution_count": 0,
      "outputs": []
    }
  ]
}